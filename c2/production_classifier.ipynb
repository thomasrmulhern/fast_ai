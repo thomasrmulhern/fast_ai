{
 "cells": [
  {
   "cell_type": "code",
   "execution_count": 1,
   "metadata": {},
   "outputs": [],
   "source": [
    "from fastai.vision import *\n",
    "from fastai import *"
   ]
  },
  {
   "cell_type": "code",
   "execution_count": 2,
   "metadata": {},
   "outputs": [
    {
     "data": {
      "text/html": [
       "\n",
       "    <div>\n",
       "        <style>\n",
       "            /* Turns off some styling */\n",
       "            progress {\n",
       "                /* gets rid of default border in Firefox and Opera. */\n",
       "                border: none;\n",
       "                /* Needs to be in here for Safari polyfill so background images work as expected. */\n",
       "                background-size: auto;\n",
       "            }\n",
       "            .progress-bar-interrupted, .progress-bar-interrupted::-webkit-progress-bar {\n",
       "                background: #F44336;\n",
       "            }\n",
       "        </style>\n",
       "      <progress value='200' class='' max='200', style='width:300px; height:20px; vertical-align: middle;'></progress>\n",
       "      100.00% [200/200 00:09<00:00]\n",
       "    </div>\n",
       "    "
      ],
      "text/plain": [
       "<IPython.core.display.HTML object>"
      ]
     },
     "metadata": {},
     "output_type": "display_data"
    }
   ],
   "source": [
    "folder = 'brown'\n",
    "file = 'brown_bears.txt'\n",
    "path = Path('../data/bears')\n",
    "dest = path/folder\n",
    "dest.mkdir(parents=True, exist_ok=True)\n",
    "download_images(path/file, dest, max_pics=200)"
   ]
  },
  {
   "cell_type": "code",
   "execution_count": 3,
   "metadata": {},
   "outputs": [
    {
     "data": {
      "text/html": [
       "\n",
       "    <div>\n",
       "        <style>\n",
       "            /* Turns off some styling */\n",
       "            progress {\n",
       "                /* gets rid of default border in Firefox and Opera. */\n",
       "                border: none;\n",
       "                /* Needs to be in here for Safari polyfill so background images work as expected. */\n",
       "                background-size: auto;\n",
       "            }\n",
       "            .progress-bar-interrupted, .progress-bar-interrupted::-webkit-progress-bar {\n",
       "                background: #F44336;\n",
       "            }\n",
       "        </style>\n",
       "      <progress value='200' class='' max='200', style='width:300px; height:20px; vertical-align: middle;'></progress>\n",
       "      100.00% [200/200 00:26<00:00]\n",
       "    </div>\n",
       "    "
      ],
      "text/plain": [
       "<IPython.core.display.HTML object>"
      ]
     },
     "metadata": {},
     "output_type": "display_data"
    },
    {
     "name": "stdout",
     "output_type": "stream",
     "text": [
      "Error https://img.washingtonpost.com/wp-apps/imrs.php?src=https://img.washingtonpost.com/news/animalia/wp-content/uploads/sites/56/2016/06/cub1.jpg&w=1484 HTTPSConnectionPool(host='img.washingtonpost.com', port=443): Read timed out. (read timeout=4)\n",
      "Error https://grizzlybearranch.ca/wp-content/uploads/2011/04/bearriver_header1.jpg HTTPSConnectionPool(host='grizzlybearranch.ca', port=443): Read timed out. (read timeout=4)\n"
     ]
    }
   ],
   "source": [
    "folder = 'grizzly'\n",
    "file = 'grizzly_bears.txt'\n",
    "path = Path('../data/bears')\n",
    "dest = path/folder\n",
    "dest.mkdir(parents=True, exist_ok=True)\n",
    "download_images(path/file, dest, max_pics=200)"
   ]
  },
  {
   "cell_type": "code",
   "execution_count": 4,
   "metadata": {},
   "outputs": [
    {
     "data": {
      "text/html": [
       "\n",
       "    <div>\n",
       "        <style>\n",
       "            /* Turns off some styling */\n",
       "            progress {\n",
       "                /* gets rid of default border in Firefox and Opera. */\n",
       "                border: none;\n",
       "                /* Needs to be in here for Safari polyfill so background images work as expected. */\n",
       "                background-size: auto;\n",
       "            }\n",
       "            .progress-bar-interrupted, .progress-bar-interrupted::-webkit-progress-bar {\n",
       "                background: #F44336;\n",
       "            }\n",
       "        </style>\n",
       "      <progress value='200' class='' max='200', style='width:300px; height:20px; vertical-align: middle;'></progress>\n",
       "      100.00% [200/200 00:11<00:00]\n",
       "    </div>\n",
       "    "
      ],
      "text/plain": [
       "<IPython.core.display.HTML object>"
      ]
     },
     "metadata": {},
     "output_type": "display_data"
    },
    {
     "name": "stdout",
     "output_type": "stream",
     "text": [
      "Error https://www.sendah.com/988-thickbox_default/daydream-white-teddy-bear.jpg HTTPSConnectionPool(host='www.sendah.com', port=443): Max retries exceeded with url: /988-thickbox_default/daydream-white-teddy-bear.jpg (Caused by SSLError(SSLError(\"bad handshake: Error([('SSL routines', 'tls_process_server_certificate', 'certificate verify failed')],)\",),))\n"
     ]
    }
   ],
   "source": [
    "folder = 'teddies'\n",
    "file = 'teddies.txt'\n",
    "path = Path('../data/bears')\n",
    "dest = path/folder\n",
    "dest.mkdir(parents=True, exist_ok=True)\n",
    "download_images(path/file, dest, max_pics=200)"
   ]
  },
  {
   "cell_type": "code",
   "execution_count": 5,
   "metadata": {},
   "outputs": [],
   "source": [
    "classes = ['teddies','grizzly','brown']"
   ]
  },
  {
   "cell_type": "code",
   "execution_count": 6,
   "metadata": {},
   "outputs": [
    {
     "name": "stdout",
     "output_type": "stream",
     "text": [
      "teddies\n"
     ]
    },
    {
     "data": {
      "text/html": [
       "\n",
       "    <div>\n",
       "        <style>\n",
       "            /* Turns off some styling */\n",
       "            progress {\n",
       "                /* gets rid of default border in Firefox and Opera. */\n",
       "                border: none;\n",
       "                /* Needs to be in here for Safari polyfill so background images work as expected. */\n",
       "                background-size: auto;\n",
       "            }\n",
       "            .progress-bar-interrupted, .progress-bar-interrupted::-webkit-progress-bar {\n",
       "                background: #F44336;\n",
       "            }\n",
       "        </style>\n",
       "      <progress value='198' class='' max='198', style='width:300px; height:20px; vertical-align: middle;'></progress>\n",
       "      100.00% [198/198 00:01<00:00]\n",
       "    </div>\n",
       "    "
      ],
      "text/plain": [
       "<IPython.core.display.HTML object>"
      ]
     },
     "metadata": {},
     "output_type": "display_data"
    },
    {
     "name": "stdout",
     "output_type": "stream",
     "text": [
      "Image ../data/bears/teddies/00000198.png has 4 instead of 3\n",
      "Image ../data/bears/teddies/00000022.png has 4 instead of 3\n",
      "cannot identify image file <_io.BufferedReader name='../data/bears/teddies/00000103.jpg'>\n",
      "cannot identify image file <_io.BufferedReader name='../data/bears/teddies/00000082.jpg'>\n",
      "cannot identify image file <_io.BufferedReader name='../data/bears/teddies/00000008.jpg'>\n",
      "cannot identify image file <_io.BufferedReader name='../data/bears/teddies/00000129.jpg'>\n",
      "Image ../data/bears/teddies/00000134.png has 4 instead of 3\n",
      "Image ../data/bears/teddies/00000178.gif has 1 instead of 3\n",
      "Image ../data/bears/teddies/00000066.png has 4 instead of 3\n",
      "Image ../data/bears/teddies/00000069.png has 4 instead of 3\n",
      "Image ../data/bears/teddies/00000060.gif has 1 instead of 3\n",
      "Image ../data/bears/teddies/00000077.png has 4 instead of 3\n",
      "cannot identify image file <_io.BufferedReader name='../data/bears/teddies/00000080.jpg'>\n",
      "grizzly\n"
     ]
    },
    {
     "data": {
      "text/html": [
       "\n",
       "    <div>\n",
       "        <style>\n",
       "            /* Turns off some styling */\n",
       "            progress {\n",
       "                /* gets rid of default border in Firefox and Opera. */\n",
       "                border: none;\n",
       "                /* Needs to be in here for Safari polyfill so background images work as expected. */\n",
       "                background-size: auto;\n",
       "            }\n",
       "            .progress-bar-interrupted, .progress-bar-interrupted::-webkit-progress-bar {\n",
       "                background: #F44336;\n",
       "            }\n",
       "        </style>\n",
       "      <progress value='197' class='' max='197', style='width:300px; height:20px; vertical-align: middle;'></progress>\n",
       "      100.00% [197/197 00:02<00:00]\n",
       "    </div>\n",
       "    "
      ],
      "text/plain": [
       "<IPython.core.display.HTML object>"
      ]
     },
     "metadata": {},
     "output_type": "display_data"
    },
    {
     "name": "stdout",
     "output_type": "stream",
     "text": [
      "cannot identify image file <_io.BufferedReader name='../data/bears/grizzly/00000096.jpg'>\n",
      "cannot identify image file <_io.BufferedReader name='../data/bears/grizzly/00000073.jpg'>\n",
      "cannot identify image file <_io.BufferedReader name='../data/bears/grizzly/00000146.jpg'>\n",
      "cannot identify image file <_io.BufferedReader name='../data/bears/grizzly/00000161.jpg'>\n",
      "cannot identify image file <_io.BufferedReader name='../data/bears/grizzly/00000136.jpg'>\n",
      "cannot identify image file <_io.BufferedReader name='../data/bears/grizzly/00000066.jpg'>\n",
      "cannot identify image file <_io.BufferedReader name='../data/bears/grizzly/00000101.jpg'>\n",
      "cannot identify image file <_io.BufferedReader name='../data/bears/grizzly/00000189.jpg'>\n",
      "cannot identify image file <_io.BufferedReader name='../data/bears/grizzly/00000077.jpg'>\n",
      "cannot identify image file <_io.BufferedReader name='../data/bears/grizzly/00000175.jpg'>\n",
      "brown\n"
     ]
    },
    {
     "data": {
      "text/html": [
       "\n",
       "    <div>\n",
       "        <style>\n",
       "            /* Turns off some styling */\n",
       "            progress {\n",
       "                /* gets rid of default border in Firefox and Opera. */\n",
       "                border: none;\n",
       "                /* Needs to be in here for Safari polyfill so background images work as expected. */\n",
       "                background-size: auto;\n",
       "            }\n",
       "            .progress-bar-interrupted, .progress-bar-interrupted::-webkit-progress-bar {\n",
       "                background: #F44336;\n",
       "            }\n",
       "        </style>\n",
       "      <progress value='199' class='' max='199', style='width:300px; height:20px; vertical-align: middle;'></progress>\n",
       "      100.00% [199/199 00:01<00:00]\n",
       "    </div>\n",
       "    "
      ],
      "text/plain": [
       "<IPython.core.display.HTML object>"
      ]
     },
     "metadata": {},
     "output_type": "display_data"
    },
    {
     "name": "stdout",
     "output_type": "stream",
     "text": [
      "cannot identify image file <_io.BufferedReader name='../data/bears/brown/00000076.jpg'>\n",
      "cannot identify image file <_io.BufferedReader name='../data/bears/brown/00000102.jpg'>\n",
      "cannot identify image file <_io.BufferedReader name='../data/bears/brown/00000047.jpg'>\n",
      "cannot identify image file <_io.BufferedReader name='../data/bears/brown/00000154.jpg'>\n",
      "Image ../data/bears/brown/00000128.png has 4 instead of 3\n",
      "cannot identify image file <_io.BufferedReader name='../data/bears/brown/00000167.jpg'>\n",
      "cannot identify image file <_io.BufferedReader name='../data/bears/brown/00000144.jpg'>\n",
      "cannot identify image file <_io.BufferedReader name='../data/bears/brown/00000135.jpg'>\n",
      "cannot identify image file <_io.BufferedReader name='../data/bears/brown/00000146.jpg'>\n",
      "cannot identify image file <_io.BufferedReader name='../data/bears/brown/00000099.jpg'>\n",
      "cannot identify image file <_io.BufferedReader name='../data/bears/brown/00000024.jpg'>\n",
      "cannot identify image file <_io.BufferedReader name='../data/bears/brown/00000064.jpg'>\n",
      "cannot identify image file <_io.BufferedReader name='../data/bears/brown/00000159.jpg'>\n",
      "cannot identify image file <_io.BufferedReader name='../data/bears/brown/00000129.jpg'>\n",
      "Image ../data/bears/brown/00000086.gif has 1 instead of 3\n",
      "Image ../data/bears/brown/00000158.gif has 1 instead of 3\n",
      "cannot identify image file <_io.BufferedReader name='../data/bears/brown/00000081.jpg'>\n",
      "cannot identify image file <_io.BufferedReader name='../data/bears/brown/00000104.jpg'>\n",
      "cannot identify image file <_io.BufferedReader name='../data/bears/brown/00000088.jpg'>\n",
      "cannot identify image file <_io.BufferedReader name='../data/bears/brown/00000188.jpg'>\n",
      "cannot identify image file <_io.BufferedReader name='../data/bears/brown/00000065.jpg'>\n",
      "cannot identify image file <_io.BufferedReader name='../data/bears/brown/00000070.png'>\n",
      "cannot identify image file <_io.BufferedReader name='../data/bears/brown/00000180.jpg'>\n",
      "cannot identify image file <_io.BufferedReader name='../data/bears/brown/00000060.jpg'>\n",
      "cannot identify image file <_io.BufferedReader name='../data/bears/brown/00000014.jpg'>\n",
      "cannot identify image file <_io.BufferedReader name='../data/bears/brown/00000133.jpeg'>\n",
      "cannot identify image file <_io.BufferedReader name='../data/bears/brown/00000148.jpg'>\n"
     ]
    }
   ],
   "source": [
    "for c in classes:\n",
    "    print(c)\n",
    "    verify_images(path/c, delete=True, max_size=500)"
   ]
  },
  {
   "cell_type": "code",
   "execution_count": 7,
   "metadata": {},
   "outputs": [],
   "source": [
    "np.random.seed(42)\n",
    "data = ImageDataBunch.from_folder(path, train=\".\", valid_pct=0.2,\n",
    "        ds_tfms=get_transforms(), size=224, num_workers=4).normalize(imagenet_stats)"
   ]
  },
  {
   "cell_type": "code",
   "execution_count": 8,
   "metadata": {},
   "outputs": [
    {
     "data": {
      "text/plain": [
       "['brown', 'grizzly', 'teddies']"
      ]
     },
     "execution_count": 8,
     "metadata": {},
     "output_type": "execute_result"
    }
   ],
   "source": [
    "data.classes"
   ]
  },
  {
   "cell_type": "code",
   "execution_count": 9,
   "metadata": {},
   "outputs": [
    {
     "ename": "ValueError",
     "evalue": "Traceback (most recent call last):\n  File \"/home/nbuser/.anaconda3/lib/python3.6/site-packages/torch/utils/data/dataloader.py\", line 106, in _worker_loop\n    samples = collate_fn([dataset[i] for i in batch_indices])\n  File \"/home/nbuser/.anaconda3/lib/python3.6/site-packages/torch/utils/data/dataloader.py\", line 106, in <listcomp>\n    samples = collate_fn([dataset[i] for i in batch_indices])\n  File \"/home/nbuser/.anaconda3/lib/python3.6/site-packages/fastai/data_block.py\", line 486, in __getitem__\n    x = x.apply_tfms(self.tfms, **self.tfmargs)\n  File \"/home/nbuser/.anaconda3/lib/python3.6/site-packages/fastai/vision/image.py\", line 113, in apply_tfms\n    else: x = tfm(x)\n  File \"/home/nbuser/.anaconda3/lib/python3.6/site-packages/fastai/vision/image.py\", line 498, in __call__\n    return self.tfm(x, *args, **{**self.resolved, **kwargs}) if self.do_run else x\n  File \"/home/nbuser/.anaconda3/lib/python3.6/site-packages/fastai/vision/image.py\", line 445, in __call__\n    if args: return self.calc(*args, **kwargs)\n  File \"/home/nbuser/.anaconda3/lib/python3.6/site-packages/fastai/vision/image.py\", line 450, in calc\n    if self._wrap: return getattr(x, self._wrap)(self.func, *args, **kwargs)\n  File \"/home/nbuser/.anaconda3/lib/python3.6/site-packages/fastai/vision/image.py\", line 157, in lighting\n    self.logit_px = func(self.logit_px, *args, **kwargs)\n  File \"/home/nbuser/.anaconda3/lib/python3.6/site-packages/fastai/vision/image.py\", line 195, in logit_px\n    if self._logit_px is None: self._logit_px = logit_(self.px)\n  File \"/home/nbuser/.anaconda3/lib/python3.6/site-packages/fastai/vision/image.py\", line 135, in px\n    self.refresh()\n  File \"/home/nbuser/.anaconda3/lib/python3.6/site-packages/fastai/vision/image.py\", line 122, in refresh\n    self._px = _grid_sample(self._px, self.flow, **self.sample_kwargs)\n  File \"/home/nbuser/.anaconda3/lib/python3.6/site-packages/fastai/vision/image.py\", line 515, in _grid_sample\n    return F.grid_sample(x[None], coords, mode=mode, padding_mode=padding_mode)[0]\n  File \"/home/nbuser/.anaconda3/lib/python3.6/site-packages/torch/nn/functional.py\", line 2092, in grid_sample\n    raise ValueError(\"padding_mode needs to be 'zeros' or 'border', but got {}\".format(padding_mode))\nValueError: padding_mode needs to be 'zeros' or 'border', but got reflection\n",
     "output_type": "error",
     "traceback": [
      "\u001b[0;31m---------------------------------------------------------------------------\u001b[0m",
      "\u001b[0;31mValueError\u001b[0m                                Traceback (most recent call last)",
      "\u001b[0;32m<ipython-input-9-5e754e6c0691>\u001b[0m in \u001b[0;36m<module>\u001b[0;34m\u001b[0m\n\u001b[0;32m----> 1\u001b[0;31m \u001b[0mdata\u001b[0m\u001b[0;34m.\u001b[0m\u001b[0mshow_batch\u001b[0m\u001b[0;34m(\u001b[0m\u001b[0mrows\u001b[0m\u001b[0;34m=\u001b[0m\u001b[0;36m3\u001b[0m\u001b[0;34m,\u001b[0m \u001b[0mfigsize\u001b[0m\u001b[0;34m=\u001b[0m\u001b[0;34m(\u001b[0m\u001b[0;36m7\u001b[0m\u001b[0;34m,\u001b[0m\u001b[0;36m8\u001b[0m\u001b[0;34m)\u001b[0m\u001b[0;34m)\u001b[0m\u001b[0;34m\u001b[0m\u001b[0;34m\u001b[0m\u001b[0m\n\u001b[0m",
      "\u001b[0;32m~/.anaconda3/lib/python3.6/site-packages/fastai/basic_data.py\u001b[0m in \u001b[0;36mshow_batch\u001b[0;34m(self, rows, ds_type, **kwargs)\u001b[0m\n\u001b[1;32m    151\u001b[0m     \u001b[0;32mdef\u001b[0m \u001b[0mshow_batch\u001b[0m\u001b[0;34m(\u001b[0m\u001b[0mself\u001b[0m\u001b[0;34m,\u001b[0m \u001b[0mrows\u001b[0m\u001b[0;34m:\u001b[0m\u001b[0mint\u001b[0m\u001b[0;34m=\u001b[0m\u001b[0;36m5\u001b[0m\u001b[0;34m,\u001b[0m \u001b[0mds_type\u001b[0m\u001b[0;34m:\u001b[0m\u001b[0mDatasetType\u001b[0m\u001b[0;34m=\u001b[0m\u001b[0mDatasetType\u001b[0m\u001b[0;34m.\u001b[0m\u001b[0mTrain\u001b[0m\u001b[0;34m,\u001b[0m \u001b[0;34m**\u001b[0m\u001b[0mkwargs\u001b[0m\u001b[0;34m)\u001b[0m\u001b[0;34m->\u001b[0m\u001b[0;32mNone\u001b[0m\u001b[0;34m:\u001b[0m\u001b[0;34m\u001b[0m\u001b[0;34m\u001b[0m\u001b[0m\n\u001b[1;32m    152\u001b[0m         \u001b[0;34m\"Show a batch of data in `ds_type` on a few `rows`.\"\u001b[0m\u001b[0;34m\u001b[0m\u001b[0;34m\u001b[0m\u001b[0m\n\u001b[0;32m--> 153\u001b[0;31m         \u001b[0mx\u001b[0m\u001b[0;34m,\u001b[0m\u001b[0my\u001b[0m \u001b[0;34m=\u001b[0m \u001b[0mself\u001b[0m\u001b[0;34m.\u001b[0m\u001b[0mone_batch\u001b[0m\u001b[0;34m(\u001b[0m\u001b[0mds_type\u001b[0m\u001b[0;34m,\u001b[0m \u001b[0;32mTrue\u001b[0m\u001b[0;34m,\u001b[0m \u001b[0;32mTrue\u001b[0m\u001b[0;34m)\u001b[0m\u001b[0;34m\u001b[0m\u001b[0;34m\u001b[0m\u001b[0m\n\u001b[0m\u001b[1;32m    154\u001b[0m         \u001b[0;32mif\u001b[0m \u001b[0mself\u001b[0m\u001b[0;34m.\u001b[0m\u001b[0mtrain_ds\u001b[0m\u001b[0;34m.\u001b[0m\u001b[0mx\u001b[0m\u001b[0;34m.\u001b[0m\u001b[0m_square_show\u001b[0m\u001b[0;34m:\u001b[0m \u001b[0mrows\u001b[0m \u001b[0;34m=\u001b[0m \u001b[0mrows\u001b[0m \u001b[0;34m**\u001b[0m \u001b[0;36m2\u001b[0m\u001b[0;34m\u001b[0m\u001b[0;34m\u001b[0m\u001b[0m\n\u001b[1;32m    155\u001b[0m         \u001b[0mxs\u001b[0m \u001b[0;34m=\u001b[0m \u001b[0;34m[\u001b[0m\u001b[0mself\u001b[0m\u001b[0;34m.\u001b[0m\u001b[0mtrain_ds\u001b[0m\u001b[0;34m.\u001b[0m\u001b[0mx\u001b[0m\u001b[0;34m.\u001b[0m\u001b[0mreconstruct\u001b[0m\u001b[0;34m(\u001b[0m\u001b[0mgrab_idx\u001b[0m\u001b[0;34m(\u001b[0m\u001b[0mx\u001b[0m\u001b[0;34m,\u001b[0m \u001b[0mi\u001b[0m\u001b[0;34m,\u001b[0m \u001b[0mself\u001b[0m\u001b[0;34m.\u001b[0m\u001b[0m_batch_first\u001b[0m\u001b[0;34m)\u001b[0m\u001b[0;34m)\u001b[0m \u001b[0;32mfor\u001b[0m \u001b[0mi\u001b[0m \u001b[0;32min\u001b[0m \u001b[0mrange\u001b[0m\u001b[0;34m(\u001b[0m\u001b[0mrows\u001b[0m\u001b[0;34m)\u001b[0m\u001b[0;34m]\u001b[0m\u001b[0;34m\u001b[0m\u001b[0;34m\u001b[0m\u001b[0m\n",
      "\u001b[0;32m~/.anaconda3/lib/python3.6/site-packages/fastai/basic_data.py\u001b[0m in \u001b[0;36mone_batch\u001b[0;34m(self, ds_type, detach, denorm)\u001b[0m\n\u001b[1;32m    134\u001b[0m         \u001b[0mw\u001b[0m \u001b[0;34m=\u001b[0m \u001b[0mself\u001b[0m\u001b[0;34m.\u001b[0m\u001b[0mnum_workers\u001b[0m\u001b[0;34m\u001b[0m\u001b[0;34m\u001b[0m\u001b[0m\n\u001b[1;32m    135\u001b[0m         \u001b[0mself\u001b[0m\u001b[0;34m.\u001b[0m\u001b[0mnum_workers\u001b[0m \u001b[0;34m=\u001b[0m \u001b[0;36m0\u001b[0m\u001b[0;34m\u001b[0m\u001b[0;34m\u001b[0m\u001b[0m\n\u001b[0;32m--> 136\u001b[0;31m         \u001b[0;32mtry\u001b[0m\u001b[0;34m:\u001b[0m     \u001b[0mx\u001b[0m\u001b[0;34m,\u001b[0m\u001b[0my\u001b[0m \u001b[0;34m=\u001b[0m \u001b[0mnext\u001b[0m\u001b[0;34m(\u001b[0m\u001b[0miter\u001b[0m\u001b[0;34m(\u001b[0m\u001b[0mdl\u001b[0m\u001b[0;34m)\u001b[0m\u001b[0;34m)\u001b[0m\u001b[0;34m\u001b[0m\u001b[0;34m\u001b[0m\u001b[0m\n\u001b[0m\u001b[1;32m    137\u001b[0m         \u001b[0;32mfinally\u001b[0m\u001b[0;34m:\u001b[0m \u001b[0mself\u001b[0m\u001b[0;34m.\u001b[0m\u001b[0mnum_workers\u001b[0m \u001b[0;34m=\u001b[0m \u001b[0mw\u001b[0m\u001b[0;34m\u001b[0m\u001b[0;34m\u001b[0m\u001b[0m\n\u001b[1;32m    138\u001b[0m         \u001b[0;32mif\u001b[0m \u001b[0mdetach\u001b[0m\u001b[0;34m:\u001b[0m \u001b[0mx\u001b[0m\u001b[0;34m,\u001b[0m\u001b[0my\u001b[0m \u001b[0;34m=\u001b[0m \u001b[0mto_detach\u001b[0m\u001b[0;34m(\u001b[0m\u001b[0mx\u001b[0m\u001b[0;34m)\u001b[0m\u001b[0;34m,\u001b[0m\u001b[0mto_detach\u001b[0m\u001b[0;34m(\u001b[0m\u001b[0my\u001b[0m\u001b[0;34m)\u001b[0m\u001b[0;34m\u001b[0m\u001b[0;34m\u001b[0m\u001b[0m\n",
      "\u001b[0;32m~/.anaconda3/lib/python3.6/site-packages/fastai/basic_data.py\u001b[0m in \u001b[0;36m__iter__\u001b[0;34m(self)\u001b[0m\n\u001b[1;32m     68\u001b[0m     \u001b[0;32mdef\u001b[0m \u001b[0m__iter__\u001b[0m\u001b[0;34m(\u001b[0m\u001b[0mself\u001b[0m\u001b[0;34m)\u001b[0m\u001b[0;34m:\u001b[0m\u001b[0;34m\u001b[0m\u001b[0;34m\u001b[0m\u001b[0m\n\u001b[1;32m     69\u001b[0m         \u001b[0;34m\"Process and returns items from `DataLoader`.\"\u001b[0m\u001b[0;34m\u001b[0m\u001b[0;34m\u001b[0m\u001b[0m\n\u001b[0;32m---> 70\u001b[0;31m         \u001b[0;32mfor\u001b[0m \u001b[0mb\u001b[0m \u001b[0;32min\u001b[0m \u001b[0mself\u001b[0m\u001b[0;34m.\u001b[0m\u001b[0mdl\u001b[0m\u001b[0;34m:\u001b[0m\u001b[0;34m\u001b[0m\u001b[0;34m\u001b[0m\u001b[0m\n\u001b[0m\u001b[1;32m     71\u001b[0m             \u001b[0my\u001b[0m \u001b[0;34m=\u001b[0m \u001b[0mb\u001b[0m\u001b[0;34m[\u001b[0m\u001b[0;36m1\u001b[0m\u001b[0;34m]\u001b[0m\u001b[0;34m[\u001b[0m\u001b[0;36m0\u001b[0m\u001b[0;34m]\u001b[0m \u001b[0;32mif\u001b[0m \u001b[0mis_listy\u001b[0m\u001b[0;34m(\u001b[0m\u001b[0mb\u001b[0m\u001b[0;34m[\u001b[0m\u001b[0;36m1\u001b[0m\u001b[0;34m]\u001b[0m\u001b[0;34m)\u001b[0m \u001b[0;32melse\u001b[0m \u001b[0mb\u001b[0m\u001b[0;34m[\u001b[0m\u001b[0;36m1\u001b[0m\u001b[0;34m]\u001b[0m\u001b[0;34m\u001b[0m\u001b[0;34m\u001b[0m\u001b[0m\n\u001b[1;32m     72\u001b[0m             \u001b[0;32myield\u001b[0m \u001b[0mself\u001b[0m\u001b[0;34m.\u001b[0m\u001b[0mproc_batch\u001b[0m\u001b[0;34m(\u001b[0m\u001b[0mb\u001b[0m\u001b[0;34m)\u001b[0m\u001b[0;34m\u001b[0m\u001b[0;34m\u001b[0m\u001b[0m\n",
      "\u001b[0;32m~/.anaconda3/lib/python3.6/site-packages/torch/utils/data/dataloader.py\u001b[0m in \u001b[0;36m__next__\u001b[0;34m(self)\u001b[0m\n\u001b[1;32m    334\u001b[0m                 \u001b[0mself\u001b[0m\u001b[0;34m.\u001b[0m\u001b[0mreorder_dict\u001b[0m\u001b[0;34m[\u001b[0m\u001b[0midx\u001b[0m\u001b[0;34m]\u001b[0m \u001b[0;34m=\u001b[0m \u001b[0mbatch\u001b[0m\u001b[0;34m\u001b[0m\u001b[0;34m\u001b[0m\u001b[0m\n\u001b[1;32m    335\u001b[0m                 \u001b[0;32mcontinue\u001b[0m\u001b[0;34m\u001b[0m\u001b[0;34m\u001b[0m\u001b[0m\n\u001b[0;32m--> 336\u001b[0;31m             \u001b[0;32mreturn\u001b[0m \u001b[0mself\u001b[0m\u001b[0;34m.\u001b[0m\u001b[0m_process_next_batch\u001b[0m\u001b[0;34m(\u001b[0m\u001b[0mbatch\u001b[0m\u001b[0;34m)\u001b[0m\u001b[0;34m\u001b[0m\u001b[0;34m\u001b[0m\u001b[0m\n\u001b[0m\u001b[1;32m    337\u001b[0m \u001b[0;34m\u001b[0m\u001b[0m\n\u001b[1;32m    338\u001b[0m     \u001b[0mnext\u001b[0m \u001b[0;34m=\u001b[0m \u001b[0m__next__\u001b[0m  \u001b[0;31m# Python 2 compatibility\u001b[0m\u001b[0;34m\u001b[0m\u001b[0;34m\u001b[0m\u001b[0m\n",
      "\u001b[0;32m~/.anaconda3/lib/python3.6/site-packages/torch/utils/data/dataloader.py\u001b[0m in \u001b[0;36m_process_next_batch\u001b[0;34m(self, batch)\u001b[0m\n\u001b[1;32m    355\u001b[0m         \u001b[0mself\u001b[0m\u001b[0;34m.\u001b[0m\u001b[0m_put_indices\u001b[0m\u001b[0;34m(\u001b[0m\u001b[0;34m)\u001b[0m\u001b[0;34m\u001b[0m\u001b[0;34m\u001b[0m\u001b[0m\n\u001b[1;32m    356\u001b[0m         \u001b[0;32mif\u001b[0m \u001b[0misinstance\u001b[0m\u001b[0;34m(\u001b[0m\u001b[0mbatch\u001b[0m\u001b[0;34m,\u001b[0m \u001b[0mExceptionWrapper\u001b[0m\u001b[0;34m)\u001b[0m\u001b[0;34m:\u001b[0m\u001b[0;34m\u001b[0m\u001b[0;34m\u001b[0m\u001b[0m\n\u001b[0;32m--> 357\u001b[0;31m             \u001b[0;32mraise\u001b[0m \u001b[0mbatch\u001b[0m\u001b[0;34m.\u001b[0m\u001b[0mexc_type\u001b[0m\u001b[0;34m(\u001b[0m\u001b[0mbatch\u001b[0m\u001b[0;34m.\u001b[0m\u001b[0mexc_msg\u001b[0m\u001b[0;34m)\u001b[0m\u001b[0;34m\u001b[0m\u001b[0;34m\u001b[0m\u001b[0m\n\u001b[0m\u001b[1;32m    358\u001b[0m         \u001b[0;32mreturn\u001b[0m \u001b[0mbatch\u001b[0m\u001b[0;34m\u001b[0m\u001b[0;34m\u001b[0m\u001b[0m\n\u001b[1;32m    359\u001b[0m \u001b[0;34m\u001b[0m\u001b[0m\n",
      "\u001b[0;31mValueError\u001b[0m: Traceback (most recent call last):\n  File \"/home/nbuser/.anaconda3/lib/python3.6/site-packages/torch/utils/data/dataloader.py\", line 106, in _worker_loop\n    samples = collate_fn([dataset[i] for i in batch_indices])\n  File \"/home/nbuser/.anaconda3/lib/python3.6/site-packages/torch/utils/data/dataloader.py\", line 106, in <listcomp>\n    samples = collate_fn([dataset[i] for i in batch_indices])\n  File \"/home/nbuser/.anaconda3/lib/python3.6/site-packages/fastai/data_block.py\", line 486, in __getitem__\n    x = x.apply_tfms(self.tfms, **self.tfmargs)\n  File \"/home/nbuser/.anaconda3/lib/python3.6/site-packages/fastai/vision/image.py\", line 113, in apply_tfms\n    else: x = tfm(x)\n  File \"/home/nbuser/.anaconda3/lib/python3.6/site-packages/fastai/vision/image.py\", line 498, in __call__\n    return self.tfm(x, *args, **{**self.resolved, **kwargs}) if self.do_run else x\n  File \"/home/nbuser/.anaconda3/lib/python3.6/site-packages/fastai/vision/image.py\", line 445, in __call__\n    if args: return self.calc(*args, **kwargs)\n  File \"/home/nbuser/.anaconda3/lib/python3.6/site-packages/fastai/vision/image.py\", line 450, in calc\n    if self._wrap: return getattr(x, self._wrap)(self.func, *args, **kwargs)\n  File \"/home/nbuser/.anaconda3/lib/python3.6/site-packages/fastai/vision/image.py\", line 157, in lighting\n    self.logit_px = func(self.logit_px, *args, **kwargs)\n  File \"/home/nbuser/.anaconda3/lib/python3.6/site-packages/fastai/vision/image.py\", line 195, in logit_px\n    if self._logit_px is None: self._logit_px = logit_(self.px)\n  File \"/home/nbuser/.anaconda3/lib/python3.6/site-packages/fastai/vision/image.py\", line 135, in px\n    self.refresh()\n  File \"/home/nbuser/.anaconda3/lib/python3.6/site-packages/fastai/vision/image.py\", line 122, in refresh\n    self._px = _grid_sample(self._px, self.flow, **self.sample_kwargs)\n  File \"/home/nbuser/.anaconda3/lib/python3.6/site-packages/fastai/vision/image.py\", line 515, in _grid_sample\n    return F.grid_sample(x[None], coords, mode=mode, padding_mode=padding_mode)[0]\n  File \"/home/nbuser/.anaconda3/lib/python3.6/site-packages/torch/nn/functional.py\", line 2092, in grid_sample\n    raise ValueError(\"padding_mode needs to be 'zeros' or 'border', but got {}\".format(padding_mode))\nValueError: padding_mode needs to be 'zeros' or 'border', but got reflection\n"
     ]
    }
   ],
   "source": [
    "data.show_batch(rows=3, figsize=(7,8))"
   ]
  },
  {
   "cell_type": "code",
   "execution_count": null,
   "metadata": {},
   "outputs": [],
   "source": []
  }
 ],
 "metadata": {
  "kernelspec": {
   "display_name": "Python 3",
   "language": "python",
   "name": "python3"
  },
  "language_info": {
   "codemirror_mode": {
    "name": "ipython",
    "version": 3
   },
   "file_extension": ".py",
   "mimetype": "text/x-python",
   "name": "python",
   "nbconvert_exporter": "python",
   "pygments_lexer": "ipython3",
   "version": "3.6.8"
  }
 },
 "nbformat": 4,
 "nbformat_minor": 2
}
